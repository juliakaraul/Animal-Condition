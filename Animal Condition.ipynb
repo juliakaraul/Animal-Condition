{
 "cells": [
  {
   "cell_type": "code",
   "execution_count": 1,
   "id": "8db52bcd-4e82-4223-a03d-865fe46d93da",
   "metadata": {},
   "outputs": [
    {
     "name": "stdout",
     "output_type": "stream",
     "text": [
      "Requirement already satisfied: textblob in c:\\users\\julia\\anaconda3\\lib\\site-packages (0.18.0.post0)\n",
      "Requirement already satisfied: nltk>=3.8 in c:\\users\\julia\\anaconda3\\lib\\site-packages (from textblob) (3.8.1)\n",
      "Requirement already satisfied: click in c:\\users\\julia\\anaconda3\\lib\\site-packages (from nltk>=3.8->textblob) (8.1.7)\n",
      "Requirement already satisfied: joblib in c:\\users\\julia\\anaconda3\\lib\\site-packages (from nltk>=3.8->textblob) (1.2.0)\n",
      "Requirement already satisfied: regex>=2021.8.3 in c:\\users\\julia\\anaconda3\\lib\\site-packages (from nltk>=3.8->textblob) (2023.10.3)\n",
      "Requirement already satisfied: tqdm in c:\\users\\julia\\anaconda3\\lib\\site-packages (from nltk>=3.8->textblob) (4.65.0)\n",
      "Requirement already satisfied: colorama in c:\\users\\julia\\anaconda3\\lib\\site-packages (from click->nltk>=3.8->textblob) (0.4.6)\n"
     ]
    }
   ],
   "source": [
    "# Importing the relevant Libraries \n",
    "import pandas as pd\n",
    "import numpy as np \n",
    "import matplotlib.pyplot as plt\n",
    "import seaborn as sns\n",
    "\n",
    "# Other libraries \n",
    "import string \n",
    "from difflib import SequenceMatcher\n",
    "!pip3 install textblob\n",
    "from textblob import TextBlob\n"
   ]
  },
  {
   "cell_type": "markdown",
   "id": "626f3829-537d-4ecd-8993-e37d1f669e10",
   "metadata": {},
   "source": [
    "# 1 Step. Data Loading"
   ]
  },
  {
   "cell_type": "code",
   "execution_count": 2,
   "id": "f9362ddf-a7ed-4810-b2bc-659ce5540a3e",
   "metadata": {},
   "outputs": [],
   "source": [
    "df = pd.read_csv(r'C:\\Users\\julia\\Projects\\A.C. Classification\\data.csv')"
   ]
  },
  {
   "cell_type": "code",
   "execution_count": 3,
   "id": "fe15a3f0-ea4e-4888-b3ae-180113f60134",
   "metadata": {},
   "outputs": [
    {
     "data": {
      "text/html": [
       "<div>\n",
       "<style scoped>\n",
       "    .dataframe tbody tr th:only-of-type {\n",
       "        vertical-align: middle;\n",
       "    }\n",
       "\n",
       "    .dataframe tbody tr th {\n",
       "        vertical-align: top;\n",
       "    }\n",
       "\n",
       "    .dataframe thead th {\n",
       "        text-align: right;\n",
       "    }\n",
       "</style>\n",
       "<table border=\"1\" class=\"dataframe\">\n",
       "  <thead>\n",
       "    <tr style=\"text-align: right;\">\n",
       "      <th></th>\n",
       "      <th>AnimalName</th>\n",
       "      <th>symptoms1</th>\n",
       "      <th>symptoms2</th>\n",
       "      <th>symptoms3</th>\n",
       "      <th>symptoms4</th>\n",
       "      <th>symptoms5</th>\n",
       "      <th>Dangerous</th>\n",
       "    </tr>\n",
       "  </thead>\n",
       "  <tbody>\n",
       "    <tr>\n",
       "      <th>0</th>\n",
       "      <td>Dog</td>\n",
       "      <td>Fever</td>\n",
       "      <td>Diarrhea</td>\n",
       "      <td>Vomiting</td>\n",
       "      <td>Weight loss</td>\n",
       "      <td>Dehydration</td>\n",
       "      <td>Yes</td>\n",
       "    </tr>\n",
       "    <tr>\n",
       "      <th>1</th>\n",
       "      <td>Dog</td>\n",
       "      <td>Fever</td>\n",
       "      <td>Diarrhea</td>\n",
       "      <td>Coughing</td>\n",
       "      <td>Tiredness</td>\n",
       "      <td>Pains</td>\n",
       "      <td>Yes</td>\n",
       "    </tr>\n",
       "    <tr>\n",
       "      <th>2</th>\n",
       "      <td>Dog</td>\n",
       "      <td>Fever</td>\n",
       "      <td>Diarrhea</td>\n",
       "      <td>Coughing</td>\n",
       "      <td>Vomiting</td>\n",
       "      <td>Anorexia</td>\n",
       "      <td>Yes</td>\n",
       "    </tr>\n",
       "    <tr>\n",
       "      <th>3</th>\n",
       "      <td>Dog</td>\n",
       "      <td>Fever</td>\n",
       "      <td>Difficulty breathing</td>\n",
       "      <td>Coughing</td>\n",
       "      <td>Lethargy</td>\n",
       "      <td>Sneezing</td>\n",
       "      <td>Yes</td>\n",
       "    </tr>\n",
       "    <tr>\n",
       "      <th>4</th>\n",
       "      <td>Dog</td>\n",
       "      <td>Fever</td>\n",
       "      <td>Diarrhea</td>\n",
       "      <td>Coughing</td>\n",
       "      <td>Lethargy</td>\n",
       "      <td>Blue Eye</td>\n",
       "      <td>Yes</td>\n",
       "    </tr>\n",
       "  </tbody>\n",
       "</table>\n",
       "</div>"
      ],
      "text/plain": [
       "  AnimalName symptoms1             symptoms2 symptoms3    symptoms4  \\\n",
       "0        Dog     Fever              Diarrhea  Vomiting  Weight loss   \n",
       "1        Dog     Fever              Diarrhea  Coughing    Tiredness   \n",
       "2        Dog     Fever              Diarrhea  Coughing     Vomiting   \n",
       "3        Dog     Fever  Difficulty breathing  Coughing     Lethargy   \n",
       "4        Dog     Fever              Diarrhea  Coughing     Lethargy   \n",
       "\n",
       "     symptoms5 Dangerous  \n",
       "0  Dehydration       Yes  \n",
       "1        Pains       Yes  \n",
       "2     Anorexia       Yes  \n",
       "3     Sneezing       Yes  \n",
       "4     Blue Eye       Yes  "
      ]
     },
     "execution_count": 3,
     "metadata": {},
     "output_type": "execute_result"
    }
   ],
   "source": [
    "df.head()"
   ]
  },
  {
   "cell_type": "code",
   "execution_count": 4,
   "id": "b5397684-c6e6-49f4-bbe3-b1a6d33e9910",
   "metadata": {},
   "outputs": [
    {
     "name": "stdout",
     "output_type": "stream",
     "text": [
      "<class 'pandas.core.frame.DataFrame'>\n",
      "RangeIndex: 871 entries, 0 to 870\n",
      "Data columns (total 7 columns):\n",
      " #   Column      Non-Null Count  Dtype \n",
      "---  ------      --------------  ----- \n",
      " 0   AnimalName  871 non-null    object\n",
      " 1   symptoms1   871 non-null    object\n",
      " 2   symptoms2   871 non-null    object\n",
      " 3   symptoms3   871 non-null    object\n",
      " 4   symptoms4   871 non-null    object\n",
      " 5   symptoms5   871 non-null    object\n",
      " 6   Dangerous   869 non-null    object\n",
      "dtypes: object(7)\n",
      "memory usage: 47.8+ KB\n"
     ]
    }
   ],
   "source": [
    "df.info()"
   ]
  },
  {
   "cell_type": "markdown",
   "id": "8f5829c0-3976-40d5-b819-70c9d8abae06",
   "metadata": {},
   "source": [
    "# 2 Step. Data Cleaning"
   ]
  },
  {
   "cell_type": "markdown",
   "id": "9220c060-c88f-43fc-bedc-86d864610419",
   "metadata": {},
   "source": [
    "## 2.1 Animal Names"
   ]
  },
  {
   "cell_type": "code",
   "execution_count": 5,
   "id": "cd1e84f9-6700-489a-bdde-08ed5138fa7d",
   "metadata": {},
   "outputs": [
    {
     "data": {
      "text/plain": [
       "array(['Dog', 'cat', 'Rabbit', 'cow', 'chicken', 'cattle', 'mammal',\n",
       "       'Cattle', 'Horse', 'Turtle', 'Hamster', 'Lion', 'Fox', 'Fox ',\n",
       "       'Goat', 'Deer', 'Chicken', 'Monkey', 'Birds', 'Sheep', 'Pigs',\n",
       "       'Fowl', 'Duck', 'Other Birds', 'snake', 'horse', 'duck', 'donkey',\n",
       "       'Donkey', 'mules', 'Elephant', 'Elk', 'Wapiti', 'Mule deer',\n",
       "       'Black-tailed deer', 'Sika deer', 'White-tailed deer', 'Reindeer',\n",
       "       'Moos', 'Tiger', 'Goats', 'Buffaloes', 'Dogs', 'Wolves', 'Hyaenas',\n",
       "       'Pig'], dtype=object)"
      ]
     },
     "execution_count": 5,
     "metadata": {},
     "output_type": "execute_result"
    }
   ],
   "source": [
    "# Checking the categorical unique values in \"AnimalName\"\n",
    "df[\"AnimalName\"].unique()"
   ]
  },
  {
   "cell_type": "code",
   "execution_count": 6,
   "id": "c34e24b7-1e8f-4f47-be76-7206ed8a921b",
   "metadata": {},
   "outputs": [
    {
     "name": "stdout",
     "output_type": "stream",
     "text": [
      "['birds', 'black-tailed deer', 'buffaloes', 'cat', 'cattle', 'chicken', 'cow', 'deer', 'dog', 'dogs', 'donkey', 'duck', 'elephant', 'elk', 'fowl', 'fox', 'fox ', 'goat', 'goats', 'hamster', 'horse', 'hyaenas', 'lion', 'mammal', 'monkey', 'moos', 'mule deer', 'mules', 'other birds', 'pig', 'pigs', 'rabbit', 'reindeer', 'sheep', 'sika deer', 'snake', 'tiger', 'turtle', 'wapiti', 'white-tailed deer', 'wolves']\n"
     ]
    }
   ],
   "source": [
    "animalName = list(df['AnimalName'].str.lower().unique())\n",
    "animalName.sort()\n",
    "print(animalName)"
   ]
  },
  {
   "cell_type": "code",
   "execution_count": 7,
   "id": "9272e524-0c1c-4b0a-9573-cc18b1c3c297",
   "metadata": {},
   "outputs": [],
   "source": [
    "# Repitition of the same category of animal names in plural form \n",
    "df['AnimalName'] = df['AnimalName'].str.lower()\n",
    "\n",
    "# Handling variants of bird names\n",
    "df['AnimalName'] = df['AnimalName'].replace('chicken', 'hen')\n",
    "df['AnimalName'] = df['AnimalName'].replace('fowl', 'bird')\n",
    "df['AnimalName'] = df['AnimalName'].replace('other birds', 'bird')\n",
    "\n",
    "# Handling plurals\n",
    "df['AnimalName'] = df['AnimalName'].replace('birds', 'bird')\n",
    "df['AnimalName'] = df['AnimalName'].replace('buffaloes', 'buffalo')\n",
    "df['AnimalName'] = df['AnimalName'].replace('dogs', 'dog')\n",
    "df['AnimalName'] = df['AnimalName'].replace('goats', 'goat')\n",
    "df['AnimalName'] = df['AnimalName'].replace('hyaenas', 'hyaena')\n",
    "df['AnimalName'] = df['AnimalName'].replace('pigs', 'pig')\n",
    "df['AnimalName'] = df['AnimalName'].replace('wolves', 'wolf')\n",
    "df['AnimalName'] = df['AnimalName'].replace('mules', 'mule')\n",
    "df['AnimalName'] = df['AnimalName'].replace('moos', 'cow')\n",
    "df['AnimalName'] = df['AnimalName'].replace('fox ', 'fox')"
   ]
  },
  {
   "cell_type": "code",
   "execution_count": 8,
   "id": "97f50c21-1de2-4342-a268-7a4b5e7aadd1",
   "metadata": {},
   "outputs": [
    {
     "name": "stdout",
     "output_type": "stream",
     "text": [
      "['bird', 'black-tailed deer', 'buffalo', 'cat', 'cattle', 'cow', 'deer', 'dog', 'donkey', 'duck', 'elephant', 'elk', 'fox', 'goat', 'hamster', 'hen', 'horse', 'hyaena', 'lion', 'mammal', 'monkey', 'mule', 'mule deer', 'pig', 'rabbit', 'reindeer', 'sheep', 'sika deer', 'snake', 'tiger', 'turtle', 'wapiti', 'white-tailed deer', 'wolf']\n"
     ]
    }
   ],
   "source": [
    "animalName = list(df['AnimalName'].str.lower().unique())\n",
    "animalName.sort()\n",
    "print(animalName)"
   ]
  },
  {
   "cell_type": "markdown",
   "id": "d1f85f6b-82b2-442c-a43c-06b6632847db",
   "metadata": {},
   "source": [
    "## 2.2 Symptoms"
   ]
  },
  {
   "cell_type": "code",
   "execution_count": 9,
   "id": "2050aa38-ba8b-4c6e-87ec-68c94f0454ee",
   "metadata": {},
   "outputs": [],
   "source": [
    "# Checking the categorical unique values in \"Symptoms\"\n",
    "symp1 = set(df[\"symptoms1\"].unique())\n",
    "symp2 = set(df[\"symptoms2\"].unique())\n",
    "symp3 = set(df[\"symptoms3\"].unique())\n",
    "symp4 = set(df[\"symptoms4\"].unique())\n",
    "symp5 = set(df[\"symptoms5\"].unique())"
   ]
  },
  {
   "cell_type": "code",
   "execution_count": 10,
   "id": "22fb76d7-dc27-42c2-88bd-828ea5cc4edb",
   "metadata": {},
   "outputs": [
    {
     "data": {
      "text/plain": [
       "21"
      ]
     },
     "execution_count": 10,
     "metadata": {},
     "output_type": "execute_result"
    }
   ],
   "source": [
    "# Checking common symptoms between symptom features\n",
    "len(symp1.intersection(symp2))"
   ]
  },
  {
   "cell_type": "code",
   "execution_count": 11,
   "id": "f453b997-37fb-45d3-8956-b88de627e736",
   "metadata": {},
   "outputs": [
    {
     "data": {
      "text/plain": [
       "935"
      ]
     },
     "execution_count": 11,
     "metadata": {},
     "output_type": "execute_result"
    }
   ],
   "source": [
    "# Checking the total number of unique symptoms \n",
    "symp_total = symp1.union(symp2).union(symp3).union(symp4).union(symp5)\n",
    "len(symp_total)"
   ]
  },
  {
   "cell_type": "code",
   "execution_count": 12,
   "id": "bf13e246-b891-45a2-854f-5830ea8e5779",
   "metadata": {},
   "outputs": [
    {
     "data": {
      "text/plain": [
       "False"
      ]
     },
     "execution_count": 12,
     "metadata": {},
     "output_type": "execute_result"
    }
   ],
   "source": [
    "# Checking for repetition of symptoms with different styles\n",
    "len(df[df['symptoms1'].str.lower() == 'fever']) == len(df[df['symptoms1'] == 'Fever'])"
   ]
  },
  {
   "cell_type": "code",
   "execution_count": 13,
   "id": "15ee0c9c-dfb2-4565-8ef2-206c5b947109",
   "metadata": {},
   "outputs": [
    {
     "data": {
      "text/plain": [
       "array(['Fever', 'fever'], dtype=object)"
      ]
     },
     "execution_count": 13,
     "metadata": {},
     "output_type": "execute_result"
    }
   ],
   "source": [
    "#Cross-referencing that with the dataframe\n",
    "test_df = df[df['symptoms1'].str.lower() == 'fever']\n",
    "test_df['symptoms1'].unique()"
   ]
  },
  {
   "cell_type": "code",
   "execution_count": 14,
   "id": "d313ff19-106a-4979-ab77-fd0dfd23735a",
   "metadata": {},
   "outputs": [
    {
     "data": {
      "text/html": [
       "<div>\n",
       "<style scoped>\n",
       "    .dataframe tbody tr th:only-of-type {\n",
       "        vertical-align: middle;\n",
       "    }\n",
       "\n",
       "    .dataframe tbody tr th {\n",
       "        vertical-align: top;\n",
       "    }\n",
       "\n",
       "    .dataframe thead th {\n",
       "        text-align: right;\n",
       "    }\n",
       "</style>\n",
       "<table border=\"1\" class=\"dataframe\">\n",
       "  <thead>\n",
       "    <tr style=\"text-align: right;\">\n",
       "      <th></th>\n",
       "      <th>AnimalName</th>\n",
       "      <th>symptoms1</th>\n",
       "      <th>symptoms2</th>\n",
       "      <th>symptoms3</th>\n",
       "      <th>symptoms4</th>\n",
       "      <th>symptoms5</th>\n",
       "      <th>Dangerous</th>\n",
       "    </tr>\n",
       "  </thead>\n",
       "  <tbody>\n",
       "    <tr>\n",
       "      <th>386</th>\n",
       "      <td>horse</td>\n",
       "      <td>fever</td>\n",
       "      <td>mild colic</td>\n",
       "      <td>loss of tail tone</td>\n",
       "      <td>loss of appetite</td>\n",
       "      <td>depression</td>\n",
       "      <td>Yes</td>\n",
       "    </tr>\n",
       "    <tr>\n",
       "      <th>388</th>\n",
       "      <td>horse</td>\n",
       "      <td>fever</td>\n",
       "      <td>loss of appetite</td>\n",
       "      <td>respiratory noise</td>\n",
       "      <td>Weight loss</td>\n",
       "      <td>depression</td>\n",
       "      <td>Yes</td>\n",
       "    </tr>\n",
       "    <tr>\n",
       "      <th>389</th>\n",
       "      <td>horse</td>\n",
       "      <td>fever</td>\n",
       "      <td>nasal discharge</td>\n",
       "      <td>muscular stiffness</td>\n",
       "      <td>swollen lymph nodes</td>\n",
       "      <td>depression</td>\n",
       "      <td>Yes</td>\n",
       "    </tr>\n",
       "    <tr>\n",
       "      <th>415</th>\n",
       "      <td>buffalo</td>\n",
       "      <td>fever</td>\n",
       "      <td>loss of appetite</td>\n",
       "      <td>rapid pulse and heart rates</td>\n",
       "      <td>lameness in affected leg</td>\n",
       "      <td>depression</td>\n",
       "      <td>Yes</td>\n",
       "    </tr>\n",
       "    <tr>\n",
       "      <th>416</th>\n",
       "      <td>sheep</td>\n",
       "      <td>fever</td>\n",
       "      <td>loss of appetite</td>\n",
       "      <td>rapid pulse and heart rates</td>\n",
       "      <td>lameness in affected leg</td>\n",
       "      <td>depression</td>\n",
       "      <td>Yes</td>\n",
       "    </tr>\n",
       "  </tbody>\n",
       "</table>\n",
       "</div>"
      ],
      "text/plain": [
       "    AnimalName symptoms1         symptoms2                    symptoms3  \\\n",
       "386      horse     fever        mild colic            loss of tail tone   \n",
       "388      horse     fever  loss of appetite            respiratory noise   \n",
       "389      horse     fever   nasal discharge           muscular stiffness   \n",
       "415    buffalo     fever  loss of appetite  rapid pulse and heart rates   \n",
       "416      sheep     fever  loss of appetite  rapid pulse and heart rates   \n",
       "\n",
       "                    symptoms4   symptoms5 Dangerous  \n",
       "386          loss of appetite  depression       Yes  \n",
       "388               Weight loss  depression       Yes  \n",
       "389       swollen lymph nodes  depression       Yes  \n",
       "415  lameness in affected leg  depression       Yes  \n",
       "416  lameness in affected leg  depression       Yes  "
      ]
     },
     "execution_count": 14,
     "metadata": {},
     "output_type": "execute_result"
    }
   ],
   "source": [
    "df[df['symptoms1'] == 'fever'].head()"
   ]
  },
  {
   "cell_type": "code",
   "execution_count": 15,
   "id": "cc752cab-16b5-4dbf-a697-aae1af94794d",
   "metadata": {},
   "outputs": [
    {
     "data": {
      "text/html": [
       "<div>\n",
       "<style scoped>\n",
       "    .dataframe tbody tr th:only-of-type {\n",
       "        vertical-align: middle;\n",
       "    }\n",
       "\n",
       "    .dataframe tbody tr th {\n",
       "        vertical-align: top;\n",
       "    }\n",
       "\n",
       "    .dataframe thead th {\n",
       "        text-align: right;\n",
       "    }\n",
       "</style>\n",
       "<table border=\"1\" class=\"dataframe\">\n",
       "  <thead>\n",
       "    <tr style=\"text-align: right;\">\n",
       "      <th></th>\n",
       "      <th>AnimalName</th>\n",
       "      <th>symptoms1</th>\n",
       "      <th>symptoms2</th>\n",
       "      <th>symptoms3</th>\n",
       "      <th>symptoms4</th>\n",
       "      <th>symptoms5</th>\n",
       "      <th>Dangerous</th>\n",
       "    </tr>\n",
       "  </thead>\n",
       "  <tbody>\n",
       "    <tr>\n",
       "      <th>0</th>\n",
       "      <td>dog</td>\n",
       "      <td>Fever</td>\n",
       "      <td>Diarrhea</td>\n",
       "      <td>Vomiting</td>\n",
       "      <td>Weight loss</td>\n",
       "      <td>Dehydration</td>\n",
       "      <td>Yes</td>\n",
       "    </tr>\n",
       "    <tr>\n",
       "      <th>1</th>\n",
       "      <td>dog</td>\n",
       "      <td>Fever</td>\n",
       "      <td>Diarrhea</td>\n",
       "      <td>Coughing</td>\n",
       "      <td>Tiredness</td>\n",
       "      <td>Pains</td>\n",
       "      <td>Yes</td>\n",
       "    </tr>\n",
       "    <tr>\n",
       "      <th>2</th>\n",
       "      <td>dog</td>\n",
       "      <td>Fever</td>\n",
       "      <td>Diarrhea</td>\n",
       "      <td>Coughing</td>\n",
       "      <td>Vomiting</td>\n",
       "      <td>Anorexia</td>\n",
       "      <td>Yes</td>\n",
       "    </tr>\n",
       "    <tr>\n",
       "      <th>3</th>\n",
       "      <td>dog</td>\n",
       "      <td>Fever</td>\n",
       "      <td>Difficulty breathing</td>\n",
       "      <td>Coughing</td>\n",
       "      <td>Lethargy</td>\n",
       "      <td>Sneezing</td>\n",
       "      <td>Yes</td>\n",
       "    </tr>\n",
       "    <tr>\n",
       "      <th>4</th>\n",
       "      <td>dog</td>\n",
       "      <td>Fever</td>\n",
       "      <td>Diarrhea</td>\n",
       "      <td>Coughing</td>\n",
       "      <td>Lethargy</td>\n",
       "      <td>Blue Eye</td>\n",
       "      <td>Yes</td>\n",
       "    </tr>\n",
       "  </tbody>\n",
       "</table>\n",
       "</div>"
      ],
      "text/plain": [
       "  AnimalName symptoms1             symptoms2 symptoms3    symptoms4  \\\n",
       "0        dog     Fever              Diarrhea  Vomiting  Weight loss   \n",
       "1        dog     Fever              Diarrhea  Coughing    Tiredness   \n",
       "2        dog     Fever              Diarrhea  Coughing     Vomiting   \n",
       "3        dog     Fever  Difficulty breathing  Coughing     Lethargy   \n",
       "4        dog     Fever              Diarrhea  Coughing     Lethargy   \n",
       "\n",
       "     symptoms5 Dangerous  \n",
       "0  Dehydration       Yes  \n",
       "1        Pains       Yes  \n",
       "2     Anorexia       Yes  \n",
       "3     Sneezing       Yes  \n",
       "4     Blue Eye       Yes  "
      ]
     },
     "execution_count": 15,
     "metadata": {},
     "output_type": "execute_result"
    }
   ],
   "source": [
    "df[df['symptoms1'] == 'Fever'].head()"
   ]
  },
  {
   "cell_type": "markdown",
   "id": "dde25d2d-5487-4137-aab4-6536dd2b7bab",
   "metadata": {},
   "source": [
    "### Transforming everything to lower case"
   ]
  },
  {
   "cell_type": "code",
   "execution_count": 16,
   "id": "66bc34c8-7355-430e-9c4d-c38a1244ad77",
   "metadata": {},
   "outputs": [
    {
     "data": {
      "text/html": [
       "<div>\n",
       "<style scoped>\n",
       "    .dataframe tbody tr th:only-of-type {\n",
       "        vertical-align: middle;\n",
       "    }\n",
       "\n",
       "    .dataframe tbody tr th {\n",
       "        vertical-align: top;\n",
       "    }\n",
       "\n",
       "    .dataframe thead th {\n",
       "        text-align: right;\n",
       "    }\n",
       "</style>\n",
       "<table border=\"1\" class=\"dataframe\">\n",
       "  <thead>\n",
       "    <tr style=\"text-align: right;\">\n",
       "      <th></th>\n",
       "      <th>AnimalName</th>\n",
       "      <th>symptoms1</th>\n",
       "      <th>symptoms2</th>\n",
       "      <th>symptoms3</th>\n",
       "      <th>symptoms4</th>\n",
       "      <th>symptoms5</th>\n",
       "      <th>Dangerous</th>\n",
       "    </tr>\n",
       "  </thead>\n",
       "  <tbody>\n",
       "    <tr>\n",
       "      <th>0</th>\n",
       "      <td>dog</td>\n",
       "      <td>fever</td>\n",
       "      <td>diarrhea</td>\n",
       "      <td>vomiting</td>\n",
       "      <td>weight loss</td>\n",
       "      <td>dehydration</td>\n",
       "      <td>yes</td>\n",
       "    </tr>\n",
       "    <tr>\n",
       "      <th>1</th>\n",
       "      <td>dog</td>\n",
       "      <td>fever</td>\n",
       "      <td>diarrhea</td>\n",
       "      <td>coughing</td>\n",
       "      <td>tiredness</td>\n",
       "      <td>pains</td>\n",
       "      <td>yes</td>\n",
       "    </tr>\n",
       "    <tr>\n",
       "      <th>2</th>\n",
       "      <td>dog</td>\n",
       "      <td>fever</td>\n",
       "      <td>diarrhea</td>\n",
       "      <td>coughing</td>\n",
       "      <td>vomiting</td>\n",
       "      <td>anorexia</td>\n",
       "      <td>yes</td>\n",
       "    </tr>\n",
       "    <tr>\n",
       "      <th>3</th>\n",
       "      <td>dog</td>\n",
       "      <td>fever</td>\n",
       "      <td>difficulty breathing</td>\n",
       "      <td>coughing</td>\n",
       "      <td>lethargy</td>\n",
       "      <td>sneezing</td>\n",
       "      <td>yes</td>\n",
       "    </tr>\n",
       "    <tr>\n",
       "      <th>4</th>\n",
       "      <td>dog</td>\n",
       "      <td>fever</td>\n",
       "      <td>diarrhea</td>\n",
       "      <td>coughing</td>\n",
       "      <td>lethargy</td>\n",
       "      <td>blue eye</td>\n",
       "      <td>yes</td>\n",
       "    </tr>\n",
       "  </tbody>\n",
       "</table>\n",
       "</div>"
      ],
      "text/plain": [
       "  AnimalName symptoms1             symptoms2 symptoms3    symptoms4  \\\n",
       "0        dog     fever              diarrhea  vomiting  weight loss   \n",
       "1        dog     fever              diarrhea  coughing    tiredness   \n",
       "2        dog     fever              diarrhea  coughing     vomiting   \n",
       "3        dog     fever  difficulty breathing  coughing     lethargy   \n",
       "4        dog     fever              diarrhea  coughing     lethargy   \n",
       "\n",
       "     symptoms5 Dangerous  \n",
       "0  dehydration       yes  \n",
       "1        pains       yes  \n",
       "2     anorexia       yes  \n",
       "3     sneezing       yes  \n",
       "4     blue eye       yes  "
      ]
     },
     "execution_count": 16,
     "metadata": {},
     "output_type": "execute_result"
    }
   ],
   "source": [
    "cols = list(df.columns)\n",
    "for col in cols:\n",
    "    df[col] = df[col].str.lower()\n",
    "\n",
    "df.head()"
   ]
  },
  {
   "cell_type": "code",
   "execution_count": 17,
   "id": "6635cc3b-1961-4174-88eb-a179389e8ecf",
   "metadata": {},
   "outputs": [
    {
     "data": {
      "text/plain": [
       "879"
      ]
     },
     "execution_count": 17,
     "metadata": {},
     "output_type": "execute_result"
    }
   ],
   "source": [
    "# Checking unique count again \n",
    "symp1 = set(df[\"symptoms1\"].unique())\n",
    "symp2 = set(df[\"symptoms2\"].unique())\n",
    "symp3 = set(df[\"symptoms3\"].unique())\n",
    "symp4 = set(df[\"symptoms4\"].unique())\n",
    "symp5 = set(df[\"symptoms5\"].unique())\n",
    "\n",
    "# Checking the total number of unique symptoms \n",
    "symp_total = symp1.union(symp2).union(symp3).union(symp4).union(symp5)\n",
    "len(symp_total)"
   ]
  },
  {
   "cell_type": "code",
   "execution_count": 18,
   "id": "d018a574-37fa-4dbc-a507-5fe6c68c9e17",
   "metadata": {},
   "outputs": [],
   "source": [
    "# Repetitive categories have reduced from 935 to 876"
   ]
  },
  {
   "cell_type": "markdown",
   "id": "8e6b71f3-2f3b-48a6-b4cf-70beadeadb85",
   "metadata": {},
   "source": [
    "### Further data exploration"
   ]
  },
  {
   "cell_type": "code",
   "execution_count": 19,
   "id": "a66094e7-8e05-4a6d-a1c1-34407ecbf3eb",
   "metadata": {},
   "outputs": [
    {
     "name": "stdout",
     "output_type": "stream",
     "text": [
      "[' abortion at the end of gestation', ' dizziness and fainting', 'abdminal pain', 'abdominal destention', 'abdominal discomfort', 'abdominal pain', 'abdonormal discomfort', 'abdonormal pain', 'abnormal behaviour', 'abnormal conformation']\n"
     ]
    }
   ],
   "source": [
    "symp_total = list(symp_total)\n",
    "symp_total.sort()\n",
    "\n",
    "print(symp_total[:10])"
   ]
  },
  {
   "cell_type": "code",
   "execution_count": 20,
   "id": "3124bdbd-9a89-473d-b63c-a565745e45a4",
   "metadata": {},
   "outputs": [
    {
     "name": "stdout",
     "output_type": "stream",
     "text": [
      "<class 'pandas.core.frame.DataFrame'>\n",
      "RangeIndex: 871 entries, 0 to 870\n",
      "Data columns (total 7 columns):\n",
      " #   Column      Non-Null Count  Dtype \n",
      "---  ------      --------------  ----- \n",
      " 0   AnimalName  871 non-null    object\n",
      " 1   symptoms1   871 non-null    object\n",
      " 2   symptoms2   871 non-null    object\n",
      " 3   symptoms3   871 non-null    object\n",
      " 4   symptoms4   871 non-null    object\n",
      " 5   symptoms5   871 non-null    object\n",
      " 6   Dangerous   869 non-null    object\n",
      "dtypes: object(7)\n",
      "memory usage: 47.8+ KB\n"
     ]
    }
   ],
   "source": [
    "#before correcting the names of symptoms let's check for empty values in the data\n",
    "df.info()"
   ]
  },
  {
   "cell_type": "markdown",
   "id": "821456be-0707-4001-bbaf-c000a7fa0928",
   "metadata": {},
   "source": [
    "## Handling empty values"
   ]
  },
  {
   "cell_type": "code",
   "execution_count": 21,
   "id": "63b12c09-47b9-4bbb-8e51-bf56fa2e74ad",
   "metadata": {},
   "outputs": [
    {
     "data": {
      "text/plain": [
       "AnimalName    0\n",
       "symptoms1     0\n",
       "symptoms2     0\n",
       "symptoms3     0\n",
       "symptoms4     0\n",
       "symptoms5     0\n",
       "Dangerous     2\n",
       "dtype: int64"
      ]
     },
     "execution_count": 21,
     "metadata": {},
     "output_type": "execute_result"
    }
   ],
   "source": [
    "df.isnull().sum()"
   ]
  },
  {
   "cell_type": "code",
   "execution_count": 22,
   "id": "db1dc212-1d85-4787-a7fa-9e7e1d37401f",
   "metadata": {},
   "outputs": [
    {
     "data": {
      "text/html": [
       "<div>\n",
       "<style scoped>\n",
       "    .dataframe tbody tr th:only-of-type {\n",
       "        vertical-align: middle;\n",
       "    }\n",
       "\n",
       "    .dataframe tbody tr th {\n",
       "        vertical-align: top;\n",
       "    }\n",
       "\n",
       "    .dataframe thead th {\n",
       "        text-align: right;\n",
       "    }\n",
       "</style>\n",
       "<table border=\"1\" class=\"dataframe\">\n",
       "  <thead>\n",
       "    <tr style=\"text-align: right;\">\n",
       "      <th></th>\n",
       "      <th>AnimalName</th>\n",
       "      <th>symptoms1</th>\n",
       "      <th>symptoms2</th>\n",
       "      <th>symptoms3</th>\n",
       "      <th>symptoms4</th>\n",
       "      <th>symptoms5</th>\n",
       "      <th>Dangerous</th>\n",
       "    </tr>\n",
       "  </thead>\n",
       "  <tbody>\n",
       "    <tr>\n",
       "      <th>269</th>\n",
       "      <td>False</td>\n",
       "      <td>False</td>\n",
       "      <td>False</td>\n",
       "      <td>False</td>\n",
       "      <td>False</td>\n",
       "      <td>False</td>\n",
       "      <td>True</td>\n",
       "    </tr>\n",
       "    <tr>\n",
       "      <th>695</th>\n",
       "      <td>False</td>\n",
       "      <td>False</td>\n",
       "      <td>False</td>\n",
       "      <td>False</td>\n",
       "      <td>False</td>\n",
       "      <td>False</td>\n",
       "      <td>True</td>\n",
       "    </tr>\n",
       "  </tbody>\n",
       "</table>\n",
       "</div>"
      ],
      "text/plain": [
       "     AnimalName  symptoms1  symptoms2  symptoms3  symptoms4  symptoms5  \\\n",
       "269       False      False      False      False      False      False   \n",
       "695       False      False      False      False      False      False   \n",
       "\n",
       "     Dangerous  \n",
       "269       True  \n",
       "695       True  "
      ]
     },
     "execution_count": 22,
     "metadata": {},
     "output_type": "execute_result"
    }
   ],
   "source": [
    "df_null = df.isnull()\n",
    "df_null[df_null['Dangerous'] == True]"
   ]
  },
  {
   "cell_type": "code",
   "execution_count": 23,
   "id": "50d156b6-1068-43e4-83db-e6770ca0ee1e",
   "metadata": {},
   "outputs": [
    {
     "data": {
      "text/plain": [
       "AnimalName             sheep\n",
       "symptoms1      teeth griding\n",
       "symptoms2             apathy\n",
       "symptoms3        dehydration\n",
       "symptoms4     ruminal stasis\n",
       "symptoms5      watery faeces\n",
       "Dangerous                NaN\n",
       "Name: 269, dtype: object"
      ]
     },
     "execution_count": 23,
     "metadata": {},
     "output_type": "execute_result"
    }
   ],
   "source": [
    "df.iloc[269]"
   ]
  },
  {
   "cell_type": "code",
   "execution_count": 24,
   "id": "a69bd3fc-6dc6-416a-be08-cab65453befe",
   "metadata": {},
   "outputs": [
    {
     "data": {
      "text/plain": [
       "AnimalName           buffalo\n",
       "symptoms1      teeth griding\n",
       "symptoms2             apathy\n",
       "symptoms3        dehydration\n",
       "symptoms4     ruminal stasis\n",
       "symptoms5      watery faeces\n",
       "Dangerous                NaN\n",
       "Name: 695, dtype: object"
      ]
     },
     "execution_count": 24,
     "metadata": {},
     "output_type": "execute_result"
    }
   ],
   "source": [
    "df.iloc[695]"
   ]
  },
  {
   "cell_type": "code",
   "execution_count": 25,
   "id": "d0a10853-8897-41f1-92ea-f26482f6c354",
   "metadata": {},
   "outputs": [
    {
     "data": {
      "text/html": [
       "<div>\n",
       "<style scoped>\n",
       "    .dataframe tbody tr th:only-of-type {\n",
       "        vertical-align: middle;\n",
       "    }\n",
       "\n",
       "    .dataframe tbody tr th {\n",
       "        vertical-align: top;\n",
       "    }\n",
       "\n",
       "    .dataframe thead th {\n",
       "        text-align: right;\n",
       "    }\n",
       "</style>\n",
       "<table border=\"1\" class=\"dataframe\">\n",
       "  <thead>\n",
       "    <tr style=\"text-align: right;\">\n",
       "      <th></th>\n",
       "      <th>AnimalName</th>\n",
       "      <th>symptoms1</th>\n",
       "      <th>symptoms2</th>\n",
       "      <th>symptoms3</th>\n",
       "      <th>symptoms4</th>\n",
       "      <th>symptoms5</th>\n",
       "      <th>Dangerous</th>\n",
       "    </tr>\n",
       "  </thead>\n",
       "  <tbody>\n",
       "    <tr>\n",
       "      <th>0</th>\n",
       "      <td>dog</td>\n",
       "      <td>fever</td>\n",
       "      <td>diarrhea</td>\n",
       "      <td>vomiting</td>\n",
       "      <td>weight loss</td>\n",
       "      <td>dehydration</td>\n",
       "      <td>yes</td>\n",
       "    </tr>\n",
       "    <tr>\n",
       "      <th>1</th>\n",
       "      <td>dog</td>\n",
       "      <td>fever</td>\n",
       "      <td>diarrhea</td>\n",
       "      <td>coughing</td>\n",
       "      <td>tiredness</td>\n",
       "      <td>pains</td>\n",
       "      <td>yes</td>\n",
       "    </tr>\n",
       "    <tr>\n",
       "      <th>2</th>\n",
       "      <td>dog</td>\n",
       "      <td>fever</td>\n",
       "      <td>diarrhea</td>\n",
       "      <td>coughing</td>\n",
       "      <td>vomiting</td>\n",
       "      <td>anorexia</td>\n",
       "      <td>yes</td>\n",
       "    </tr>\n",
       "    <tr>\n",
       "      <th>3</th>\n",
       "      <td>dog</td>\n",
       "      <td>fever</td>\n",
       "      <td>difficulty breathing</td>\n",
       "      <td>coughing</td>\n",
       "      <td>lethargy</td>\n",
       "      <td>sneezing</td>\n",
       "      <td>yes</td>\n",
       "    </tr>\n",
       "    <tr>\n",
       "      <th>4</th>\n",
       "      <td>dog</td>\n",
       "      <td>fever</td>\n",
       "      <td>diarrhea</td>\n",
       "      <td>coughing</td>\n",
       "      <td>lethargy</td>\n",
       "      <td>blue eye</td>\n",
       "      <td>yes</td>\n",
       "    </tr>\n",
       "  </tbody>\n",
       "</table>\n",
       "</div>"
      ],
      "text/plain": [
       "  AnimalName symptoms1             symptoms2 symptoms3    symptoms4  \\\n",
       "0        dog     fever              diarrhea  vomiting  weight loss   \n",
       "1        dog     fever              diarrhea  coughing    tiredness   \n",
       "2        dog     fever              diarrhea  coughing     vomiting   \n",
       "3        dog     fever  difficulty breathing  coughing     lethargy   \n",
       "4        dog     fever              diarrhea  coughing     lethargy   \n",
       "\n",
       "     symptoms5 Dangerous  \n",
       "0  dehydration       yes  \n",
       "1        pains       yes  \n",
       "2     anorexia       yes  \n",
       "3     sneezing       yes  \n",
       "4     blue eye       yes  "
      ]
     },
     "execution_count": 25,
     "metadata": {},
     "output_type": "execute_result"
    }
   ],
   "source": [
    "# Different animals having exactly the same symptoms.\n",
    "# For the sake of analysis leaving it out as an outlier.\n",
    "df = df.dropna(how = 'any', axis = 0)\n",
    "df.head()"
   ]
  },
  {
   "cell_type": "code",
   "execution_count": 26,
   "id": "b1074106-9473-4b0c-885e-f4f6dcce642d",
   "metadata": {},
   "outputs": [
    {
     "data": {
      "text/plain": [
       "AnimalName    0\n",
       "symptoms1     0\n",
       "symptoms2     0\n",
       "symptoms3     0\n",
       "symptoms4     0\n",
       "symptoms5     0\n",
       "Dangerous     0\n",
       "dtype: int64"
      ]
     },
     "execution_count": 26,
     "metadata": {},
     "output_type": "execute_result"
    }
   ],
   "source": [
    "df.isnull().sum()"
   ]
  },
  {
   "cell_type": "markdown",
   "id": "83007417-aea3-4948-9178-cc4305ce6399",
   "metadata": {},
   "source": [
    "## Removing characters like space and spelling errors"
   ]
  },
  {
   "cell_type": "code",
   "execution_count": 27,
   "id": "3afd4b78-2370-4d6c-bfad-64a04bf66b29",
   "metadata": {},
   "outputs": [
    {
     "name": "stdout",
     "output_type": "stream",
     "text": [
      "{'y', '(', 'b', 'a', 'k', '\\xa0', 'p', ',', 'j', 'i', 'd', 'n', 'o', 'z', ')', 't', 'u', '-', 'w', 'r', 'f', 's', 'x', 'v', 'g', 'e', 'h', 'l', ' ', '_', 'c', 'm', '.', 'q'}\n"
     ]
    }
   ],
   "source": [
    "# Data exploration has revealed errors and presence of spaces in the names of symptoms\n",
    "\n",
    "#Checking the unique characters found in all columns \n",
    "characters_unique = set()\n",
    "cols = list(df.columns)\n",
    "for col in cols:\n",
    "    for value in df[col]:\n",
    "        for letter in value:\n",
    "            characters_unique.add(letter)\n",
    "\n",
    "print(characters_unique)"
   ]
  },
  {
   "cell_type": "code",
   "execution_count": 28,
   "id": "a511a35f-e244-4725-ba90-acad0113fddd",
   "metadata": {},
   "outputs": [
    {
     "name": "stdout",
     "output_type": "stream",
     "text": [
      "['(', '\\xa0', ',', ')', '-', ' ', '_', '.']\n"
     ]
    }
   ],
   "source": [
    "# Removing all the alphabets to see what remains\n",
    "temp = []\n",
    "for ele in characters_unique:\n",
    "    if ele not in string.ascii_lowercase:\n",
    "        temp.append(ele)\n",
    "print(temp)"
   ]
  },
  {
   "cell_type": "code",
   "execution_count": 29,
   "id": "f15a5876-a854-4389-9c59-5f90e392ce3d",
   "metadata": {},
   "outputs": [
    {
     "data": {
      "text/plain": [
       "'test test test'"
      ]
     },
     "execution_count": 29,
     "metadata": {},
     "output_type": "execute_result"
    }
   ],
   "source": [
    "# Creating a cleaning function to change unwanted characters to spaces\n",
    "def clean(word):\n",
    "    for extra in ['.', ')', ' ', ',', '(', '-', '\\xa0', '_']:\n",
    "        word = word.replace(extra, ' ')\n",
    "        \n",
    "    list_words = word.split()\n",
    "    final_word = \"\"\n",
    "    for ele in list_words:\n",
    "        ele = ele.strip()\n",
    "\n",
    "        flag = True\n",
    "        for letter in ele:\n",
    "            if letter not in string.ascii_lowercase:\n",
    "                flag = False\n",
    "\n",
    "        if flag:\n",
    "            final_word += ele + \" \"\n",
    "\n",
    "    return final_word.strip()\n",
    "\n",
    "#check if it works\n",
    "clean(' - test ,test. test_  ')"
   ]
  },
  {
   "cell_type": "code",
   "execution_count": 30,
   "id": "bd644dd5-f6aa-49b0-8593-18be8fe69518",
   "metadata": {},
   "outputs": [
    {
     "data": {
      "text/html": [
       "<div>\n",
       "<style scoped>\n",
       "    .dataframe tbody tr th:only-of-type {\n",
       "        vertical-align: middle;\n",
       "    }\n",
       "\n",
       "    .dataframe tbody tr th {\n",
       "        vertical-align: top;\n",
       "    }\n",
       "\n",
       "    .dataframe thead th {\n",
       "        text-align: right;\n",
       "    }\n",
       "</style>\n",
       "<table border=\"1\" class=\"dataframe\">\n",
       "  <thead>\n",
       "    <tr style=\"text-align: right;\">\n",
       "      <th></th>\n",
       "      <th>AnimalName</th>\n",
       "      <th>symptoms1</th>\n",
       "      <th>symptoms2</th>\n",
       "      <th>symptoms3</th>\n",
       "      <th>symptoms4</th>\n",
       "      <th>symptoms5</th>\n",
       "      <th>Dangerous</th>\n",
       "    </tr>\n",
       "  </thead>\n",
       "  <tbody>\n",
       "    <tr>\n",
       "      <th>0</th>\n",
       "      <td>dog</td>\n",
       "      <td>fever</td>\n",
       "      <td>diarrhea</td>\n",
       "      <td>vomiting</td>\n",
       "      <td>weight loss</td>\n",
       "      <td>dehydration</td>\n",
       "      <td>yes</td>\n",
       "    </tr>\n",
       "    <tr>\n",
       "      <th>1</th>\n",
       "      <td>dog</td>\n",
       "      <td>fever</td>\n",
       "      <td>diarrhea</td>\n",
       "      <td>coughing</td>\n",
       "      <td>tiredness</td>\n",
       "      <td>pains</td>\n",
       "      <td>yes</td>\n",
       "    </tr>\n",
       "    <tr>\n",
       "      <th>2</th>\n",
       "      <td>dog</td>\n",
       "      <td>fever</td>\n",
       "      <td>diarrhea</td>\n",
       "      <td>coughing</td>\n",
       "      <td>vomiting</td>\n",
       "      <td>anorexia</td>\n",
       "      <td>yes</td>\n",
       "    </tr>\n",
       "    <tr>\n",
       "      <th>3</th>\n",
       "      <td>dog</td>\n",
       "      <td>fever</td>\n",
       "      <td>difficulty breathing</td>\n",
       "      <td>coughing</td>\n",
       "      <td>lethargy</td>\n",
       "      <td>sneezing</td>\n",
       "      <td>yes</td>\n",
       "    </tr>\n",
       "    <tr>\n",
       "      <th>4</th>\n",
       "      <td>dog</td>\n",
       "      <td>fever</td>\n",
       "      <td>diarrhea</td>\n",
       "      <td>coughing</td>\n",
       "      <td>lethargy</td>\n",
       "      <td>blue eye</td>\n",
       "      <td>yes</td>\n",
       "    </tr>\n",
       "  </tbody>\n",
       "</table>\n",
       "</div>"
      ],
      "text/plain": [
       "  AnimalName symptoms1             symptoms2 symptoms3    symptoms4  \\\n",
       "0        dog     fever              diarrhea  vomiting  weight loss   \n",
       "1        dog     fever              diarrhea  coughing    tiredness   \n",
       "2        dog     fever              diarrhea  coughing     vomiting   \n",
       "3        dog     fever  difficulty breathing  coughing     lethargy   \n",
       "4        dog     fever              diarrhea  coughing     lethargy   \n",
       "\n",
       "     symptoms5 Dangerous  \n",
       "0  dehydration       yes  \n",
       "1        pains       yes  \n",
       "2     anorexia       yes  \n",
       "3     sneezing       yes  \n",
       "4     blue eye       yes  "
      ]
     },
     "execution_count": 30,
     "metadata": {},
     "output_type": "execute_result"
    }
   ],
   "source": [
    "# Performing cleaning function on all columns \n",
    "cols = list(df.columns)\n",
    "for col in cols:\n",
    "    df[col] = df[col].apply(clean)\n",
    "\n",
    "df.head()"
   ]
  },
  {
   "cell_type": "code",
   "execution_count": 31,
   "id": "7a0cfa3e-356b-4696-9513-156adbafffb7",
   "metadata": {},
   "outputs": [
    {
     "data": {
      "text/html": [
       "<div>\n",
       "<style scoped>\n",
       "    .dataframe tbody tr th:only-of-type {\n",
       "        vertical-align: middle;\n",
       "    }\n",
       "\n",
       "    .dataframe tbody tr th {\n",
       "        vertical-align: top;\n",
       "    }\n",
       "\n",
       "    .dataframe thead th {\n",
       "        text-align: right;\n",
       "    }\n",
       "</style>\n",
       "<table border=\"1\" class=\"dataframe\">\n",
       "  <thead>\n",
       "    <tr style=\"text-align: right;\">\n",
       "      <th></th>\n",
       "      <th>AnimalName</th>\n",
       "      <th>symptoms1</th>\n",
       "      <th>symptoms2</th>\n",
       "      <th>symptoms3</th>\n",
       "      <th>symptoms4</th>\n",
       "      <th>symptoms5</th>\n",
       "      <th>Dangerous</th>\n",
       "    </tr>\n",
       "  </thead>\n",
       "  <tbody>\n",
       "    <tr>\n",
       "      <th>866</th>\n",
       "      <td>buffalo</td>\n",
       "      <td>fever</td>\n",
       "      <td>difficulty breathing</td>\n",
       "      <td>poor appetite</td>\n",
       "      <td>eye and skin change</td>\n",
       "      <td>unable to exercise</td>\n",
       "      <td>yes</td>\n",
       "    </tr>\n",
       "    <tr>\n",
       "      <th>867</th>\n",
       "      <td>buffalo</td>\n",
       "      <td>fever</td>\n",
       "      <td>loss of appetite</td>\n",
       "      <td>lession on the skin</td>\n",
       "      <td>lethargy</td>\n",
       "      <td>joint pain</td>\n",
       "      <td>yes</td>\n",
       "    </tr>\n",
       "    <tr>\n",
       "      <th>868</th>\n",
       "      <td>buffalo</td>\n",
       "      <td>lesions in the nasal cavity</td>\n",
       "      <td>lesions on nose</td>\n",
       "      <td>vomiting</td>\n",
       "      <td>noisy breathing</td>\n",
       "      <td>lesions on nose</td>\n",
       "      <td>yes</td>\n",
       "    </tr>\n",
       "    <tr>\n",
       "      <th>869</th>\n",
       "      <td>buffalo</td>\n",
       "      <td>hair loss</td>\n",
       "      <td>dandruff</td>\n",
       "      <td>vomiting</td>\n",
       "      <td>crusting of the skin</td>\n",
       "      <td>ulcerated skin</td>\n",
       "      <td>yes</td>\n",
       "    </tr>\n",
       "    <tr>\n",
       "      <th>870</th>\n",
       "      <td>buffalo</td>\n",
       "      <td>greenish yellow nasal discharge</td>\n",
       "      <td>lack of pigmentation</td>\n",
       "      <td>vomiting</td>\n",
       "      <td>lethargy</td>\n",
       "      <td>pain on face</td>\n",
       "      <td>yes</td>\n",
       "    </tr>\n",
       "  </tbody>\n",
       "</table>\n",
       "</div>"
      ],
      "text/plain": [
       "    AnimalName                        symptoms1             symptoms2  \\\n",
       "866    buffalo                            fever  difficulty breathing   \n",
       "867    buffalo                            fever      loss of appetite   \n",
       "868    buffalo      lesions in the nasal cavity       lesions on nose   \n",
       "869    buffalo                        hair loss              dandruff   \n",
       "870    buffalo  greenish yellow nasal discharge  lack of pigmentation   \n",
       "\n",
       "               symptoms3             symptoms4           symptoms5 Dangerous  \n",
       "866        poor appetite   eye and skin change  unable to exercise       yes  \n",
       "867  lession on the skin              lethargy          joint pain       yes  \n",
       "868             vomiting       noisy breathing     lesions on nose       yes  \n",
       "869             vomiting  crusting of the skin      ulcerated skin       yes  \n",
       "870             vomiting              lethargy        pain on face       yes  "
      ]
     },
     "execution_count": 31,
     "metadata": {},
     "output_type": "execute_result"
    }
   ],
   "source": [
    "df.tail()"
   ]
  },
  {
   "cell_type": "code",
   "execution_count": 32,
   "id": "cfe236a5-54cc-488a-af02-0589eec09831",
   "metadata": {},
   "outputs": [
    {
     "data": {
      "text/plain": [
       "862"
      ]
     },
     "execution_count": 32,
     "metadata": {},
     "output_type": "execute_result"
    }
   ],
   "source": [
    "# Checking unique counts again\n",
    "symp1 = set(df[\"symptoms1\"].unique())\n",
    "symp2 = set(df[\"symptoms2\"].unique())\n",
    "symp3 = set(df[\"symptoms3\"].unique())\n",
    "symp4 = set(df[\"symptoms4\"].unique())\n",
    "symp5 = set(df[\"symptoms5\"].unique())\n",
    "\n",
    "# Checking the total number of unique symptoms. Still 17 repetitive values.\n",
    "symp_total = symp1.union(symp2).union(symp3).union(symp4).union(symp5)\n",
    "len(symp_total)"
   ]
  },
  {
   "cell_type": "markdown",
   "id": "f60e0c58-a6bd-49b9-a805-2bacc62f5913",
   "metadata": {},
   "source": [
    "## Dealing with spelling mistakes"
   ]
  },
  {
   "cell_type": "code",
   "execution_count": 33,
   "id": "33235c03-7493-4ae4-b888-e5c0e020d74e",
   "metadata": {},
   "outputs": [
    {
     "data": {
      "text/plain": [
       "0.9629629629629629"
      ]
     },
     "execution_count": 33,
     "metadata": {},
     "output_type": "execute_result"
    }
   ],
   "source": [
    "def similar(a, b):\n",
    "    return SequenceMatcher(None, a, b).ratio()\n",
    "\n",
    "# Cheking if it works\n",
    "similar('abdominal pain', 'abdminal pain')"
   ]
  },
  {
   "cell_type": "code",
   "execution_count": 34,
   "id": "c996ff55-9d4e-4628-8aff-3f1ca77cec20",
   "metadata": {},
   "outputs": [
    {
     "data": {
      "text/plain": [
       "Index(['AnimalName', 'symptoms1', 'symptoms2', 'symptoms3', 'symptoms4',\n",
       "       'symptoms5', 'Dangerous'],\n",
       "      dtype='object')"
      ]
     },
     "execution_count": 34,
     "metadata": {},
     "output_type": "execute_result"
    }
   ],
   "source": [
    "df.columns"
   ]
  },
  {
   "cell_type": "code",
   "execution_count": 35,
   "id": "57a38688-0c49-4647-870c-9400f463c914",
   "metadata": {},
   "outputs": [],
   "source": [
    "def change(df, ws, new):\n",
    "    symps = ['symptoms1', 'symptoms2', 'symptoms3', 'symptoms4', 'symptoms5']\n",
    "    for col in symps:\n",
    "        for w in ws:\n",
    "            df[col] = df[col].replace(w, new)\n",
    "    return df"
   ]
  },
  {
   "cell_type": "code",
   "execution_count": 36,
   "id": "64a74669-71d3-4a76-a1cd-a20c37101971",
   "metadata": {},
   "outputs": [
    {
     "data": {
      "text/plain": [
       "312"
      ]
     },
     "execution_count": 36,
     "metadata": {},
     "output_type": "execute_result"
    }
   ],
   "source": [
    "# Structuring the words and the output\n",
    "symp_total = list(symp_total)\n",
    "\n",
    "similarity_scores = []\n",
    "for i1, word1 in enumerate(symp_total):\n",
    "    for i2, word2 in enumerate(symp_total[i1+1:]):\n",
    "        ratio = similar(word1, word2)\n",
    "        if ratio > 0.75: # 0.75 as a threshold\n",
    "            value = [ratio, (word1, word2)]\n",
    "            similarity_scores.append(value)\n",
    "\n",
    "similarity_scores.sort(key=lambda val: val[0], reverse = True)\n",
    "len(similarity_scores)"
   ]
  },
  {
   "cell_type": "code",
   "execution_count": 37,
   "id": "1ad02d61-d9c8-4076-bb74-831fb6b17822",
   "metadata": {},
   "outputs": [
    {
     "data": {
      "text/plain": [
       "[[0.9787234042553191, ('difficulty in breathing', 'difficultty in breathing')],\n",
       " [0.975609756097561, ('high body temperature', 'high body temperaure')],\n",
       " [0.975609756097561, ('difficulty in walking', 'difficult in walking')],\n",
       " [0.9743589743589743, ('difficulty breathing', 'difficulty breating')],\n",
       " [0.9743589743589743, ('difficulty breathing', 'diffculty breathing')],\n",
       " [0.972972972972973, ('discharge from eye', 'discharge from eyes')],\n",
       " [0.9714285714285714, ('aversion to light', 'anversion to light')],\n",
       " [0.9714285714285714, ('skin colour change', 'skin color change')],\n",
       " [0.9714285714285714, ('decreased appetite', 'decrease appetite')],\n",
       " [0.9696969696969697, ('ocular discharge', 'occular discharge')]]"
      ]
     },
     "execution_count": 37,
     "metadata": {},
     "output_type": "execute_result"
    }
   ],
   "source": [
    "# A lot of spelling mistakes were revealed.\n",
    "similarity_scores[:10]"
   ]
  },
  {
   "cell_type": "code",
   "execution_count": 38,
   "id": "6611d9dd-6188-497a-a2b2-f78dc3af711f",
   "metadata": {},
   "outputs": [],
   "source": [
    "# All manual checks were carried out.\n",
    "\n",
    "# Similarity score >= 0.9\n",
    "\n",
    "df = change(df = df, ws = ['difficultty in breathing', 'difficulty in breathing', \n",
    "                           'difficulty breating', 'difficulty breathing', \n",
    "                           'diffculty breathing', 'difficulty breathing', \n",
    "                           'labored breathing', 'lound breathing', \n",
    "                           'respiratory noise', 'respiratory distress', \n",
    "                          'gasping for breath', 'gasping for air'], new = 'breathing difficulty')\n",
    "df = change(df = df, ws = ['difficulty in walking', 'difficult in walking', \n",
    "                           'limp', 'lip', 'inability to stand',\n",
    "                           'difficulty in walk', 'difficulty walking', 'walking problem',\n",
    "                           'lameness', 'legness'], new = 'walking difficulty')\n",
    "df = change(df = df, ws = ['high body temperaure', 'high body temperature'], new = 'high body temperature')\n",
    "df = change(df = df, ws = ['discharge from eye', 'discharge from eyes'], new = 'discharge from eyes')\n",
    "df = change(df = df, ws = ['decreased appetite', 'decrease appetite', 'poor appetite',\n",
    "                           'loss of eat', 'loss of appettite', 'loss of appetite', 'reduced appetite',\n",
    "                           'loss od appetite', 'loss of appetite', 'unable to eat',\n",
    "                           'loss of appetite', 'lack of appetite'], new = 'decreased appetite')\n",
    "df = change(df = df, ws = ['skin color change', 'skin colour change'], new = 'skin color change')\n",
    "df = change(df = df, ws = ['aversion to light', 'anversion to light'], new = 'aversion to light')\n",
    "df = change(df = df, ws = ['ocular discharge', 'occular discharge', \n",
    "                           'eye discharges', 'eye disharge', \n",
    "                           'discharge from eyes', 'mucus discharge from the eye'], new = 'ocular discharge')\n",
    "df = change(df = df, ws = ['fluffed feather', 'fluffed feathers'], new = 'fluffed feathers')\n",
    "df = change(df = df, ws = ['abdominal pain', 'abdminal pain', \n",
    "                           'abdonormal discomfort', 'abdominal discomfort', \n",
    "                           'abdonormal pain', 'abdominal pain'], new = 'abdominal pain')\n",
    "df = change(df = df, ws = ['inappetence', 'inappentence'], new = 'inappetence')\n",
    "df = change(df = df, ws = ['skin reashes', 'skin rashes'], new = 'skin rashes')\n",
    "df = change(df = df, ws = ['nosebleeds', 'nose bleeds', \n",
    "                           'nose bleeds', 'nosebleed'], new = 'nose bleeds')\n",
    "df = change(df = df, ws = ['despression', 'depression'], new = 'depression')\n",
    "df = change(df = df, ws = ['weightloss', 'weight loss'], new = 'weight loss')\n",
    "df = change(df = df, ws = ['watery eyes', 'watery eye'], new = 'watery eyes')\n",
    "df = change(df = df, ws = ['diffulty swallowing', 'difficulty swallowing'], new = 'difficulty swallowing')\n",
    "df = change(df = df, ws = ['swelling of joints', 'swelling on joints'], new = 'joints swell')\n",
    "df = change(df = df, ws = ['vomitting', 'vomiting'], new = 'vomit')\n",
    "df = change(df = df, ws = ['dizzines', 'dizziness'], new = 'dizziness')\n",
    "df = change(df = df, ws = ['dullness', 'dull ness'], new = 'dullness')\n",
    "df = change(df = df, ws = ['diarrhea', 'diarrhoea'], new = 'diarrhoea')\n",
    "df = change(df = df, ws = ['head ache', 'headache', \n",
    "                           'head tossing', 'head pressing'], new = 'headache')\n",
    "df = change(df = df, ws = ['pneumonia', 'pnemonia'], new = 'pneumonia')\n",
    "df = change(df = df, ws = ['bloody diarrhea', 'bloody diarhhea'], new = 'bloody diarrhoea')\n",
    "df = change(df = df, ws = ['watery eyes', 'watery eye'], new = 'watery eyes')\n",
    "df = change(df = df, ws = ['diffulty swallowing', 'difficulty swallowing', \n",
    "                           'difficulty in swallowing', 'difficulty swallowing'], new = 'difficulty swallowing')\n",
    "df = change(df = df, ws = ['abnormalities', 'abnormalalities'], new = 'abnormalities')\n",
    "df = change(df = df, ws = ['blood in faces', 'blood on faces', \n",
    "                           'blood stool', 'blood in stool'], new = 'bloody faces')\n",
    "df = change(df = df, ws = ['tremor', 'tremors'], new = 'tremor')\n",
    "df = change(df = df, ws = ['anemia', 'aneamia', \n",
    "                          'anemia', 'anaemia'], new = 'anemia')\n",
    "df = change(df = df, ws = ['hyperesthesia', 'hyperaestesia'], new = 'hyperesthesia')\n",
    "df = change(df = df, ws = ['attack', 'attacks'], new = 'attack')\n",
    "df = change(df = df, ws = ['lesion', 'lesions', \n",
    "                          'lession on the skin', 'lession on cat skin'], new = 'lesion')\n",
    "df = change(df = df, ws = ['excess salivation', 'excession salivation', \n",
    "                           'excessive grooming', 'excessive drooling', \n",
    "                           'excess salivation', 'excess salivary'], new = 'excess salivation')\n",
    "df = change(df = df, ws = ['muscles ache', 'muscle aches'], new = 'muscle ache')\n",
    "df = change(df = df, ws = ['nausea', 'nause'], new = 'nausea')\n",
    "df = change(df = df, ws = ['edema', 'oedema'], new = 'edema')\n",
    "df = change(df = df, ws = ['ulcers', 'ulcer'], new = 'ulcer')\n",
    "df = change(df = df, ws = ['sweat', 'sweats', \n",
    "                           'sweating'], new = 'sweat')\n",
    "df = change(df = df, ws = ['grinding teeth', 'grinding of teeth'], new = 'grinding of teeth')\n",
    "df = change(df = df, ws = ['scratching', 'scartching'], new = 'scratching')\n",
    "df = change(df = df, ws = ['join pains', 'joint pain'], new = 'joint pain')\n",
    "df = change(df = df, ws = ['salivating', 'salivation'], new = 'salivation')\n",
    "df = change(df = df, ws = ['week pulse', 'weak pulse'], new = 'week pulse')"
   ]
  },
  {
   "cell_type": "code",
   "execution_count": 39,
   "id": "ae07a74c-a724-41a1-b877-a992d87ecf46",
   "metadata": {},
   "outputs": [],
   "source": [
    "# Similarity score >= 0.8 and <0.9\n",
    "\n",
    "df = change(df = df, ws = ['oains', 'pain', \n",
    "                           'pain', 'pains'], new = 'pain')\n",
    "df = change(df = df, ws = ['shaking oh head', 'shaking head', \n",
    "                            'head shking', 'head shaking'], new = 'head shaking')\n",
    "df = change(df = df, ws = ['scratches', 'scartches'], new = 'scratching')\n",
    "df = change(df = df, ws = ['muscle stiffness', 'muscular stiffness'], new = 'muscle stiffness')\n",
    "df = change(df = df, ws = ['ruffled feathers', 'fluffed feathers', \n",
    "                           'puffed up feather', 'ruffled feathers'], new = 'ruffled feathers')\n",
    "df = change(df = df, ws = ['seizuers', 'seizures'], new = 'seizures')\n",
    "df = change(df = df, ws = ['lethargy', 'lathargy'], new = 'lathargy')\n",
    "df = change(df = df, ws = ['weekness', 'weakness'], new = 'weakness')\n",
    "df = change(df = df, ws = ['bleeding wounds', 'bleeding from wounds'], new = 'bleeding from wounds')\n",
    "df = change(df = df, ws = ['gasc', 'gas'], new = 'gas')\n",
    "df = change(df = df, ws = ['high temperature', 'high body temperature'], new = 'high temperature')\n",
    "df = change(df = df, ws = ['fatigue', 'fatique'], new = 'fatigue')\n",
    "df = change(df = df, ws = ['distress', 'stress'], new = 'stress')\n",
    "df = change(df = df, ws = ['poor coat condition', 'poor condition', \n",
    "                           'poor condition', 'poor body condition', \n",
    "                           'poor coat condition', 'poor body condition'], new = 'poor condition')\n",
    "df = change(df = df, ws = ['relunctance to move', 'reluctant move'], new = 'reluctant move')\n",
    "df = change(df = df, ws = ['bloody urine', 'blood in urine'], new = 'bloody urine')\n",
    "df = change(df = df, ws = ['change in gait', 'changed gait'], new = 'change in gait')\n",
    "df = change(df = df, ws = ['drop in milk production', 'decrease in milk production'], new = 'decrease in milk production')\n",
    "df = change(df = df, ws = ['thivk skin', 'thicked skin'], new = 'thick skin')\n",
    "df = change(df = df, ws = ['tear produce', 'tear production'], new = 'tear production')\n",
    "df = change(df = df, ws = ['rapid heartbeats', 'rapid heart rate'], new = 'rapid heartbeats')\n",
    "df = change(df = df, ws = ['flock moratality', 'kid moratality'], new = 'flock moratality')\n",
    "df = change(df = df, ws = ['skin irritation', 'irritation'], new = 'skin irritation')\n",
    "df = change(df = df, ws = ['itchiness', 'itches', 'itching'], new = 'itches')\n",
    "df = change(df = df, ws = ['listless', 'listlessness'], new = 'listless')\n",
    "df = change(df = df, ws = ['drooping wings', 'droopy wings'], new = 'droopy wings')\n",
    "df = change(df = df, ws = ['tachypea', 'trachea'], new = 'trachea')\n",
    "df = change(df = df, ws = ['hot joints', 'hock joint'], new = 'hot joints')\n",
    "df = change(df = df, ws = ['cough', 'coughing'], new = 'cough')\n",
    "df = change(df = df, ws = ['swelling on thebody'], new = 'swelling on the body')"
   ]
  },
  {
   "cell_type": "code",
   "execution_count": 40,
   "id": "4158e7f4-3156-4285-bdb2-5811d2f4af22",
   "metadata": {},
   "outputs": [
    {
     "data": {
      "text/plain": [
       "740"
      ]
     },
     "execution_count": 40,
     "metadata": {},
     "output_type": "execute_result"
    }
   ],
   "source": [
    "# rechecking unique count \n",
    "symp1 = set(df[\"symptoms1\"].unique())\n",
    "symp2 = set(df[\"symptoms2\"].unique())\n",
    "symp3 = set(df[\"symptoms3\"].unique())\n",
    "symp4 = set(df[\"symptoms4\"].unique())\n",
    "symp5 = set(df[\"symptoms5\"].unique())\n",
    "\n",
    "# Checking the total number of unique symptoms \n",
    "symp_total = symp1.union(symp2).union(symp3).union(symp4).union(symp5)\n",
    "len(symp_total)"
   ]
  },
  {
   "cell_type": "code",
   "execution_count": 41,
   "id": "a936926c-eccc-4884-84c0-8f888dc78989",
   "metadata": {},
   "outputs": [
    {
     "data": {
      "text/plain": [
       "122"
      ]
     },
     "execution_count": 41,
     "metadata": {},
     "output_type": "execute_result"
    }
   ],
   "source": [
    "#Repiting categories were reduced from 862 to 740\n",
    "862 - 740"
   ]
  },
  {
   "cell_type": "code",
   "execution_count": 42,
   "id": "ed70b063-0f72-40b9-94ea-029ea5878e8d",
   "metadata": {},
   "outputs": [
    {
     "data": {
      "text/html": [
       "<div>\n",
       "<style scoped>\n",
       "    .dataframe tbody tr th:only-of-type {\n",
       "        vertical-align: middle;\n",
       "    }\n",
       "\n",
       "    .dataframe tbody tr th {\n",
       "        vertical-align: top;\n",
       "    }\n",
       "\n",
       "    .dataframe thead th {\n",
       "        text-align: right;\n",
       "    }\n",
       "</style>\n",
       "<table border=\"1\" class=\"dataframe\">\n",
       "  <thead>\n",
       "    <tr style=\"text-align: right;\">\n",
       "      <th></th>\n",
       "      <th>AnimalName</th>\n",
       "      <th>symptoms1</th>\n",
       "      <th>symptoms2</th>\n",
       "      <th>symptoms3</th>\n",
       "      <th>symptoms4</th>\n",
       "      <th>symptoms5</th>\n",
       "      <th>Dangerous</th>\n",
       "    </tr>\n",
       "  </thead>\n",
       "  <tbody>\n",
       "    <tr>\n",
       "      <th>0</th>\n",
       "      <td>dog</td>\n",
       "      <td>fever</td>\n",
       "      <td>diarrhoea</td>\n",
       "      <td>vomit</td>\n",
       "      <td>weight loss</td>\n",
       "      <td>dehydration</td>\n",
       "      <td>yes</td>\n",
       "    </tr>\n",
       "    <tr>\n",
       "      <th>1</th>\n",
       "      <td>dog</td>\n",
       "      <td>fever</td>\n",
       "      <td>diarrhoea</td>\n",
       "      <td>cough</td>\n",
       "      <td>tiredness</td>\n",
       "      <td>pain</td>\n",
       "      <td>yes</td>\n",
       "    </tr>\n",
       "    <tr>\n",
       "      <th>2</th>\n",
       "      <td>dog</td>\n",
       "      <td>fever</td>\n",
       "      <td>diarrhoea</td>\n",
       "      <td>cough</td>\n",
       "      <td>vomit</td>\n",
       "      <td>anorexia</td>\n",
       "      <td>yes</td>\n",
       "    </tr>\n",
       "    <tr>\n",
       "      <th>3</th>\n",
       "      <td>dog</td>\n",
       "      <td>fever</td>\n",
       "      <td>breathing difficulty</td>\n",
       "      <td>cough</td>\n",
       "      <td>lethargy</td>\n",
       "      <td>sneering</td>\n",
       "      <td>yes</td>\n",
       "    </tr>\n",
       "    <tr>\n",
       "      <th>4</th>\n",
       "      <td>dog</td>\n",
       "      <td>fever</td>\n",
       "      <td>diarrhoea</td>\n",
       "      <td>cough</td>\n",
       "      <td>lethargy</td>\n",
       "      <td>blue eye</td>\n",
       "      <td>yes</td>\n",
       "    </tr>\n",
       "  </tbody>\n",
       "</table>\n",
       "</div>"
      ],
      "text/plain": [
       "  AnimalName symptoms1             symptoms2 symptoms3    symptoms4  \\\n",
       "0        dog     fever             diarrhoea     vomit  weight loss   \n",
       "1        dog     fever             diarrhoea     cough    tiredness   \n",
       "2        dog     fever             diarrhoea     cough        vomit   \n",
       "3        dog     fever  breathing difficulty     cough     lethargy   \n",
       "4        dog     fever             diarrhoea     cough     lethargy   \n",
       "\n",
       "     symptoms5 Dangerous  \n",
       "0  dehydration       yes  \n",
       "1         pain       yes  \n",
       "2     anorexia       yes  \n",
       "3     sneering       yes  \n",
       "4     blue eye       yes  "
      ]
     },
     "execution_count": 42,
     "metadata": {},
     "output_type": "execute_result"
    }
   ],
   "source": [
    "# Leveraging textblob to correct spelling errors\n",
    "symps = ['symptoms1', 'symptoms2', 'symptoms3', 'symptoms4', 'symptoms5']\n",
    "for col in symps:\n",
    "    df[col] = df[col].apply(lambda txt: ''.join(TextBlob(txt).correct()))\n",
    "\n",
    "df.head()"
   ]
  },
  {
   "cell_type": "markdown",
   "id": "32f70189-515f-4632-b68a-fc7d525c1558",
   "metadata": {},
   "source": [
    "## 2.3 Final Check Up of Cleaned Data"
   ]
  },
  {
   "cell_type": "code",
   "execution_count": 43,
   "id": "b705d95b-ca3e-42de-9add-7ce70ffccce2",
   "metadata": {},
   "outputs": [
    {
     "data": {
      "text/plain": [
       "array(['dog', 'cat', 'rabbit', 'cow', 'hen', 'cattle', 'mammal', 'horse',\n",
       "       'turtle', 'hamster', 'lion', 'fox', 'goat', 'deer', 'monkey',\n",
       "       'bird', 'sheep', 'pig', 'duck', 'snake', 'donkey', 'mule',\n",
       "       'elephant', 'elk', 'wapiti', 'mule deer', 'black tailed deer',\n",
       "       'sika deer', 'white tailed deer', 'reindeer', 'tiger', 'buffalo',\n",
       "       'wolf', 'hyaena'], dtype=object)"
      ]
     },
     "execution_count": 43,
     "metadata": {},
     "output_type": "execute_result"
    }
   ],
   "source": [
    "df['AnimalName'].unique()"
   ]
  },
  {
   "cell_type": "code",
   "execution_count": 44,
   "id": "fd8293eb-9d6f-43b2-b302-bd403fbc50cd",
   "metadata": {},
   "outputs": [
    {
     "data": {
      "text/plain": [
       "740"
      ]
     },
     "execution_count": 44,
     "metadata": {},
     "output_type": "execute_result"
    }
   ],
   "source": [
    "# Checking unique count of symptoms\n",
    "symp1 = set(df[\"symptoms1\"].unique())\n",
    "symp2 = set(df[\"symptoms2\"].unique())\n",
    "symp3 = set(df[\"symptoms3\"].unique())\n",
    "symp4 = set(df[\"symptoms4\"].unique())\n",
    "symp5 = set(df[\"symptoms5\"].unique())\n",
    "\n",
    "# Checking the total number of unique symptoms\n",
    "symp_total = symp1.union(symp2).union(symp3).union(symp4).union(symp5)\n",
    "len(symp_total)\n",
    "# The count is the same"
   ]
  },
  {
   "cell_type": "code",
   "execution_count": 45,
   "id": "44e550f8-c76a-4607-86c7-73518c7c3b8e",
   "metadata": {},
   "outputs": [
    {
     "data": {
      "text/plain": [
       "array(['yes', 'no'], dtype=object)"
      ]
     },
     "execution_count": 45,
     "metadata": {},
     "output_type": "execute_result"
    }
   ],
   "source": [
    "df['Dangerous'].unique()"
   ]
  },
  {
   "cell_type": "code",
   "execution_count": 46,
   "id": "39af1e78-b43e-4682-a0c9-84cf2784222f",
   "metadata": {},
   "outputs": [
    {
     "data": {
      "text/html": [
       "<div>\n",
       "<style scoped>\n",
       "    .dataframe tbody tr th:only-of-type {\n",
       "        vertical-align: middle;\n",
       "    }\n",
       "\n",
       "    .dataframe tbody tr th {\n",
       "        vertical-align: top;\n",
       "    }\n",
       "\n",
       "    .dataframe thead th {\n",
       "        text-align: right;\n",
       "    }\n",
       "</style>\n",
       "<table border=\"1\" class=\"dataframe\">\n",
       "  <thead>\n",
       "    <tr style=\"text-align: right;\">\n",
       "      <th></th>\n",
       "      <th>AnimalName</th>\n",
       "      <th>symptoms1</th>\n",
       "      <th>symptoms2</th>\n",
       "      <th>symptoms3</th>\n",
       "      <th>symptoms4</th>\n",
       "      <th>symptoms5</th>\n",
       "      <th>Dangerous</th>\n",
       "    </tr>\n",
       "  </thead>\n",
       "  <tbody>\n",
       "    <tr>\n",
       "      <th>0</th>\n",
       "      <td>dog</td>\n",
       "      <td>fever</td>\n",
       "      <td>diarrhoea</td>\n",
       "      <td>vomit</td>\n",
       "      <td>weight loss</td>\n",
       "      <td>dehydration</td>\n",
       "      <td>yes</td>\n",
       "    </tr>\n",
       "    <tr>\n",
       "      <th>1</th>\n",
       "      <td>dog</td>\n",
       "      <td>fever</td>\n",
       "      <td>diarrhoea</td>\n",
       "      <td>cough</td>\n",
       "      <td>tiredness</td>\n",
       "      <td>pain</td>\n",
       "      <td>yes</td>\n",
       "    </tr>\n",
       "    <tr>\n",
       "      <th>2</th>\n",
       "      <td>dog</td>\n",
       "      <td>fever</td>\n",
       "      <td>diarrhoea</td>\n",
       "      <td>cough</td>\n",
       "      <td>vomit</td>\n",
       "      <td>anorexia</td>\n",
       "      <td>yes</td>\n",
       "    </tr>\n",
       "    <tr>\n",
       "      <th>3</th>\n",
       "      <td>dog</td>\n",
       "      <td>fever</td>\n",
       "      <td>breathing difficulty</td>\n",
       "      <td>cough</td>\n",
       "      <td>lethargy</td>\n",
       "      <td>sneering</td>\n",
       "      <td>yes</td>\n",
       "    </tr>\n",
       "    <tr>\n",
       "      <th>4</th>\n",
       "      <td>dog</td>\n",
       "      <td>fever</td>\n",
       "      <td>diarrhoea</td>\n",
       "      <td>cough</td>\n",
       "      <td>lethargy</td>\n",
       "      <td>blue eye</td>\n",
       "      <td>yes</td>\n",
       "    </tr>\n",
       "  </tbody>\n",
       "</table>\n",
       "</div>"
      ],
      "text/plain": [
       "  AnimalName symptoms1             symptoms2 symptoms3    symptoms4  \\\n",
       "0        dog     fever             diarrhoea     vomit  weight loss   \n",
       "1        dog     fever             diarrhoea     cough    tiredness   \n",
       "2        dog     fever             diarrhoea     cough        vomit   \n",
       "3        dog     fever  breathing difficulty     cough     lethargy   \n",
       "4        dog     fever             diarrhoea     cough     lethargy   \n",
       "\n",
       "     symptoms5 Dangerous  \n",
       "0  dehydration       yes  \n",
       "1         pain       yes  \n",
       "2     anorexia       yes  \n",
       "3     sneering       yes  \n",
       "4     blue eye       yes  "
      ]
     },
     "execution_count": 46,
     "metadata": {},
     "output_type": "execute_result"
    }
   ],
   "source": [
    "# Final cleaning function on all columns \n",
    "cols = list(df.columns)\n",
    "for col in cols:\n",
    "    df[col] = df[col].apply(clean)\n",
    "\n",
    "# Checking the dataframe\n",
    "df.head()"
   ]
  },
  {
   "cell_type": "code",
   "execution_count": 47,
   "id": "0cd73ba6-85d4-4012-884f-39ae3ac964ae",
   "metadata": {},
   "outputs": [
    {
     "data": {
      "text/html": [
       "<div>\n",
       "<style scoped>\n",
       "    .dataframe tbody tr th:only-of-type {\n",
       "        vertical-align: middle;\n",
       "    }\n",
       "\n",
       "    .dataframe tbody tr th {\n",
       "        vertical-align: top;\n",
       "    }\n",
       "\n",
       "    .dataframe thead th {\n",
       "        text-align: right;\n",
       "    }\n",
       "</style>\n",
       "<table border=\"1\" class=\"dataframe\">\n",
       "  <thead>\n",
       "    <tr style=\"text-align: right;\">\n",
       "      <th></th>\n",
       "      <th>Animal</th>\n",
       "      <th>Symptom 1</th>\n",
       "      <th>Symptom 2</th>\n",
       "      <th>Symptom 3</th>\n",
       "      <th>Symptom 4</th>\n",
       "      <th>Symptom 5</th>\n",
       "      <th>Dangerous</th>\n",
       "    </tr>\n",
       "  </thead>\n",
       "  <tbody>\n",
       "    <tr>\n",
       "      <th>0</th>\n",
       "      <td>dog</td>\n",
       "      <td>fever</td>\n",
       "      <td>diarrhoea</td>\n",
       "      <td>vomit</td>\n",
       "      <td>weight loss</td>\n",
       "      <td>dehydration</td>\n",
       "      <td>yes</td>\n",
       "    </tr>\n",
       "    <tr>\n",
       "      <th>1</th>\n",
       "      <td>dog</td>\n",
       "      <td>fever</td>\n",
       "      <td>diarrhoea</td>\n",
       "      <td>cough</td>\n",
       "      <td>tiredness</td>\n",
       "      <td>pain</td>\n",
       "      <td>yes</td>\n",
       "    </tr>\n",
       "    <tr>\n",
       "      <th>2</th>\n",
       "      <td>dog</td>\n",
       "      <td>fever</td>\n",
       "      <td>diarrhoea</td>\n",
       "      <td>cough</td>\n",
       "      <td>vomit</td>\n",
       "      <td>anorexia</td>\n",
       "      <td>yes</td>\n",
       "    </tr>\n",
       "    <tr>\n",
       "      <th>3</th>\n",
       "      <td>dog</td>\n",
       "      <td>fever</td>\n",
       "      <td>breathing difficulty</td>\n",
       "      <td>cough</td>\n",
       "      <td>lethargy</td>\n",
       "      <td>sneering</td>\n",
       "      <td>yes</td>\n",
       "    </tr>\n",
       "    <tr>\n",
       "      <th>4</th>\n",
       "      <td>dog</td>\n",
       "      <td>fever</td>\n",
       "      <td>diarrhoea</td>\n",
       "      <td>cough</td>\n",
       "      <td>lethargy</td>\n",
       "      <td>blue eye</td>\n",
       "      <td>yes</td>\n",
       "    </tr>\n",
       "  </tbody>\n",
       "</table>\n",
       "</div>"
      ],
      "text/plain": [
       "  Animal Symptom 1             Symptom 2 Symptom 3    Symptom 4    Symptom 5  \\\n",
       "0    dog     fever             diarrhoea     vomit  weight loss  dehydration   \n",
       "1    dog     fever             diarrhoea     cough    tiredness         pain   \n",
       "2    dog     fever             diarrhoea     cough        vomit     anorexia   \n",
       "3    dog     fever  breathing difficulty     cough     lethargy     sneering   \n",
       "4    dog     fever             diarrhoea     cough     lethargy     blue eye   \n",
       "\n",
       "  Dangerous  \n",
       "0       yes  \n",
       "1       yes  \n",
       "2       yes  \n",
       "3       yes  \n",
       "4       yes  "
      ]
     },
     "execution_count": 47,
     "metadata": {},
     "output_type": "execute_result"
    }
   ],
   "source": [
    "# Renaming the columns\n",
    "df.rename(columns={'AnimalName': 'Animal', \n",
    "                   'symptoms1': 'Symptom 1', \n",
    "                   'symptoms2': 'Symptom 2', \n",
    "                   'symptoms3': 'Symptom 3', \n",
    "                   'symptoms4': 'Symptom 4',\n",
    "                   'symptoms5': 'Symptom 5'}, inplace=True)\n",
    "\n",
    "# Checking the dataframe\n",
    "df.head()"
   ]
  },
  {
   "cell_type": "code",
   "execution_count": 48,
   "id": "b128f178-2050-460b-bdb4-3c8b1a8f79d4",
   "metadata": {},
   "outputs": [],
   "source": [
    "# Exporting the dataframe as csv\n",
    "df.to_csv(\"AC_clean.csv\", index=False)"
   ]
  },
  {
   "cell_type": "markdown",
   "id": "a91f6923-12db-4e84-afd7-0be3f2bee17f",
   "metadata": {},
   "source": [
    "# 3 Step. Exploration"
   ]
  },
  {
   "cell_type": "code",
   "execution_count": 49,
   "id": "1a4000b8-0f4d-4436-966c-d8cd4f8c927e",
   "metadata": {},
   "outputs": [
    {
     "data": {
      "text/plain": [
       "869"
      ]
     },
     "execution_count": 49,
     "metadata": {},
     "output_type": "execute_result"
    }
   ],
   "source": [
    "len(df)"
   ]
  },
  {
   "cell_type": "code",
   "execution_count": 50,
   "id": "f6d8e7e2-e597-4662-b355-be0b6b6ac5d7",
   "metadata": {},
   "outputs": [
    {
     "name": "stdout",
     "output_type": "stream",
     "text": [
      "<class 'pandas.core.frame.DataFrame'>\n",
      "Index: 869 entries, 0 to 870\n",
      "Data columns (total 7 columns):\n",
      " #   Column     Non-Null Count  Dtype \n",
      "---  ------     --------------  ----- \n",
      " 0   Animal     869 non-null    object\n",
      " 1   Symptom 1  869 non-null    object\n",
      " 2   Symptom 2  869 non-null    object\n",
      " 3   Symptom 3  869 non-null    object\n",
      " 4   Symptom 4  869 non-null    object\n",
      " 5   Symptom 5  869 non-null    object\n",
      " 6   Dangerous  869 non-null    object\n",
      "dtypes: object(7)\n",
      "memory usage: 54.3+ KB\n"
     ]
    }
   ],
   "source": [
    "df.info()"
   ]
  },
  {
   "cell_type": "code",
   "execution_count": 51,
   "id": "6feec25b-27e6-4e07-8621-4a9fac7f64df",
   "metadata": {},
   "outputs": [
    {
     "data": {
      "text/plain": [
       "(array([ 0,  1,  2,  3,  4,  5,  6,  7,  8,  9, 10, 11, 12, 13, 14, 15, 16,\n",
       "        17, 18, 19, 20, 21, 22, 23, 24, 25, 26, 27, 28, 29, 30, 31, 32, 33]),\n",
       " [Text(0, 0, 'dog'),\n",
       "  Text(1, 0, 'cat'),\n",
       "  Text(2, 0, 'rabbit'),\n",
       "  Text(3, 0, 'cow'),\n",
       "  Text(4, 0, 'hen'),\n",
       "  Text(5, 0, 'cattle'),\n",
       "  Text(6, 0, 'mammal'),\n",
       "  Text(7, 0, 'horse'),\n",
       "  Text(8, 0, 'turtle'),\n",
       "  Text(9, 0, 'hamster'),\n",
       "  Text(10, 0, 'lion'),\n",
       "  Text(11, 0, 'fox'),\n",
       "  Text(12, 0, 'goat'),\n",
       "  Text(13, 0, 'deer'),\n",
       "  Text(14, 0, 'monkey'),\n",
       "  Text(15, 0, 'bird'),\n",
       "  Text(16, 0, 'sheep'),\n",
       "  Text(17, 0, 'pig'),\n",
       "  Text(18, 0, 'duck'),\n",
       "  Text(19, 0, 'snake'),\n",
       "  Text(20, 0, 'donkey'),\n",
       "  Text(21, 0, 'mule'),\n",
       "  Text(22, 0, 'elephant'),\n",
       "  Text(23, 0, 'elk'),\n",
       "  Text(24, 0, 'wapiti'),\n",
       "  Text(25, 0, 'mule deer'),\n",
       "  Text(26, 0, 'black tailed deer'),\n",
       "  Text(27, 0, 'sika deer'),\n",
       "  Text(28, 0, 'white tailed deer'),\n",
       "  Text(29, 0, 'reindeer'),\n",
       "  Text(30, 0, 'tiger'),\n",
       "  Text(31, 0, 'buffalo'),\n",
       "  Text(32, 0, 'wolf'),\n",
       "  Text(33, 0, 'hyaena')])"
      ]
     },
     "execution_count": 51,
     "metadata": {},
     "output_type": "execute_result"
    },
    {
     "data": {
      "image/png": "[encoded data removed]",
      "text/plain": [
       "<Figure size 2000x800 with 1 Axes>"
      ]
     },
     "metadata": {},
     "output_type": "display_data"
    }
   ],
   "source": [
    "plt.figure(figsize=(20,8))\n",
    "ax = sns.countplot(x=\"Animal\", data=df)\n",
    "plt.xticks(\n",
    "    rotation=35,\n",
    "    horizontalalignment='right',\n",
    "    fontweight='light',\n",
    "    fontsize='x-large' \n",
    ")"
   ]
  },
  {
   "cell_type": "code",
   "execution_count": 52,
   "id": "88789f2a-ed55-4427-8cc7-98946eb18f14",
   "metadata": {},
   "outputs": [
    {
     "data": {
      "image/png": "[encoded data removed]",
      "text/plain": [
       "<Figure size 300x300 with 1 Axes>"
      ]
     },
     "metadata": {},
     "output_type": "display_data"
    }
   ],
   "source": [
    "plt.figure(figsize=(3,3))\n",
    "plt.pie(df.Dangerous.value_counts(),labels=['yes','no'],autopct='%1.1f%%')\n",
    "plt.show()"
   ]
  }
 ],
 "metadata": {
  "kernelspec": {
   "display_name": "Python 3 (ipykernel)",
   "language": "python",
   "name": "python3"
  },
  "language_info": {
   "codemirror_mode": {
    "name": "ipython",
    "version": 3
   },
   "file_extension": ".py",
   "mimetype": "text/x-python",
   "name": "python",
   "nbconvert_exporter": "python",
   "pygments_lexer": "ipython3",
   "version": "3.11.7"
  }
 },
 "nbformat": 4,
 "nbformat_minor": 5
}
